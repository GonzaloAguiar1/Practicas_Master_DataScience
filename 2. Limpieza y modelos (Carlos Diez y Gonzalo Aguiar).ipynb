{
 "cells": [
  {
   "cell_type": "code",
   "execution_count": 228,
   "id": "dceb49e2",
   "metadata": {},
   "outputs": [],
   "source": [
    "import pandas as pd\n",
    "import matplotlib as mpl\n",
    "import matplotlib.pyplot as plt\n",
    "from sklearn import preprocessing\n",
    "import numpy as np\n",
    "from matplotlib.ticker import NullFormatter\n",
    "import matplotlib.ticker as ticker\n",
    "from sklearn import preprocessing\n",
    "import seaborn as sns\n",
    "from sklearn.utils import resample\n",
    "from sklearn.model_selection import train_test_split\n",
    "import category_encoders as ce\n",
    "from sklearn.tree import DecisionTreeClassifier\n",
    "from sklearn.metrics import plot_confusion_matrix\n",
    "from sklearn.metrics import accuracy_score\n",
    "from sklearn.metrics import classification_report, confusion_matrix, roc_curve, auc, \\\n",
    "                            silhouette_score, recall_score, precision_score, make_scorer, \\\n",
    "                            roc_auc_score, f1_score, precision_recall_curve\n",
    "from sklearn import linear_model\n",
    "from imblearn.over_sampling import SMOTE\n",
    "from sklearn.feature_selection import SelectFromModel\n",
    "from sklearn.linear_model import Lasso\n",
    "from sklearn.linear_model import LogisticRegression\n",
    "import xgboost as xgb\n",
    "import lightgbm as lgb\n",
    "import pickle\n",
    "from sklearn.ensemble import RandomForestClassifier\n",
    "from sklearn.model_selection import RandomizedSearchCV\n",
    "import scikitplot as skplt"
   ]
  },
  {
   "cell_type": "code",
   "execution_count": 2,
   "id": "f2443331",
   "metadata": {},
   "outputs": [],
   "source": [
    "pd.set_option('display.max_rows', 500)\n",
    "pd.set_option('display.max_columns', 500)"
   ]
  },
  {
   "cell_type": "code",
   "execution_count": 3,
   "id": "70bd2978",
   "metadata": {},
   "outputs": [
    {
     "name": "stdout",
     "output_type": "stream",
     "text": [
      "C:\\Users\\Usuario\\Desktop\\Machine learning\\project_template\\data\n"
     ]
    }
   ],
   "source": [
    "cd \"C:/Users/Usuario/Desktop/Machine learning/project_template/data\""
   ]
  },
  {
   "cell_type": "code",
   "execution_count": 4,
   "id": "0d08d056",
   "metadata": {},
   "outputs": [],
   "source": [
    "data = pd.read_csv('../data/NCDB_1999_to_2014.csv', engine = 'python', na_values=[\"UU\", \"XX\", \"U\", \"X\", \"QQ\", \"Q\", \"NNNN\", \"UUUU\", \"XXXX\", \"NN\", \"N\" ])"
   ]
  },
  {
   "cell_type": "markdown",
   "id": "3da34292",
   "metadata": {},
   "source": [
    "**Reemplazamos los nombres de las columnas a minusculas**"
   ]
  },
  {
   "cell_type": "code",
   "execution_count": 5,
   "id": "7743093e",
   "metadata": {},
   "outputs": [
    {
     "data": {
      "text/html": [
       "<div>\n",
       "<style scoped>\n",
       "    .dataframe tbody tr th:only-of-type {\n",
       "        vertical-align: middle;\n",
       "    }\n",
       "\n",
       "    .dataframe tbody tr th {\n",
       "        vertical-align: top;\n",
       "    }\n",
       "\n",
       "    .dataframe thead th {\n",
       "        text-align: right;\n",
       "    }\n",
       "</style>\n",
       "<table border=\"1\" class=\"dataframe\">\n",
       "  <thead>\n",
       "    <tr style=\"text-align: right;\">\n",
       "      <th></th>\n",
       "      <th>c_year</th>\n",
       "      <th>c_mnth</th>\n",
       "      <th>c_wday</th>\n",
       "      <th>c_hour</th>\n",
       "      <th>c_sev</th>\n",
       "      <th>c_vehs</th>\n",
       "      <th>c_conf</th>\n",
       "      <th>c_rcfg</th>\n",
       "      <th>c_wthr</th>\n",
       "      <th>c_rsur</th>\n",
       "      <th>c_raln</th>\n",
       "      <th>c_traf</th>\n",
       "      <th>v_id</th>\n",
       "      <th>v_type</th>\n",
       "      <th>v_year</th>\n",
       "      <th>p_id</th>\n",
       "      <th>p_sex</th>\n",
       "      <th>p_age</th>\n",
       "      <th>p_psn</th>\n",
       "      <th>p_isev</th>\n",
       "      <th>p_safe</th>\n",
       "      <th>p_user</th>\n",
       "    </tr>\n",
       "  </thead>\n",
       "  <tbody>\n",
       "    <tr>\n",
       "      <th>0</th>\n",
       "      <td>1999</td>\n",
       "      <td>1.0</td>\n",
       "      <td>1.0</td>\n",
       "      <td>20.0</td>\n",
       "      <td>2</td>\n",
       "      <td>2.0</td>\n",
       "      <td>34.0</td>\n",
       "      <td>NaN</td>\n",
       "      <td>1.0</td>\n",
       "      <td>5.0</td>\n",
       "      <td>3.0</td>\n",
       "      <td>3.0</td>\n",
       "      <td>1.0</td>\n",
       "      <td>6.0</td>\n",
       "      <td>1990.0</td>\n",
       "      <td>1.0</td>\n",
       "      <td>M</td>\n",
       "      <td>41.0</td>\n",
       "      <td>11.0</td>\n",
       "      <td>1.0</td>\n",
       "      <td>NaN</td>\n",
       "      <td>1.0</td>\n",
       "    </tr>\n",
       "    <tr>\n",
       "      <th>1</th>\n",
       "      <td>1999</td>\n",
       "      <td>1.0</td>\n",
       "      <td>1.0</td>\n",
       "      <td>20.0</td>\n",
       "      <td>2</td>\n",
       "      <td>2.0</td>\n",
       "      <td>34.0</td>\n",
       "      <td>NaN</td>\n",
       "      <td>1.0</td>\n",
       "      <td>5.0</td>\n",
       "      <td>3.0</td>\n",
       "      <td>3.0</td>\n",
       "      <td>2.0</td>\n",
       "      <td>1.0</td>\n",
       "      <td>1987.0</td>\n",
       "      <td>1.0</td>\n",
       "      <td>M</td>\n",
       "      <td>19.0</td>\n",
       "      <td>11.0</td>\n",
       "      <td>1.0</td>\n",
       "      <td>NaN</td>\n",
       "      <td>1.0</td>\n",
       "    </tr>\n",
       "    <tr>\n",
       "      <th>2</th>\n",
       "      <td>1999</td>\n",
       "      <td>1.0</td>\n",
       "      <td>1.0</td>\n",
       "      <td>20.0</td>\n",
       "      <td>2</td>\n",
       "      <td>2.0</td>\n",
       "      <td>34.0</td>\n",
       "      <td>NaN</td>\n",
       "      <td>1.0</td>\n",
       "      <td>5.0</td>\n",
       "      <td>3.0</td>\n",
       "      <td>3.0</td>\n",
       "      <td>2.0</td>\n",
       "      <td>1.0</td>\n",
       "      <td>1987.0</td>\n",
       "      <td>2.0</td>\n",
       "      <td>F</td>\n",
       "      <td>20.0</td>\n",
       "      <td>13.0</td>\n",
       "      <td>2.0</td>\n",
       "      <td>2.0</td>\n",
       "      <td>2.0</td>\n",
       "    </tr>\n",
       "    <tr>\n",
       "      <th>3</th>\n",
       "      <td>1999</td>\n",
       "      <td>1.0</td>\n",
       "      <td>1.0</td>\n",
       "      <td>8.0</td>\n",
       "      <td>2</td>\n",
       "      <td>1.0</td>\n",
       "      <td>1.0</td>\n",
       "      <td>NaN</td>\n",
       "      <td>5.0</td>\n",
       "      <td>3.0</td>\n",
       "      <td>6.0</td>\n",
       "      <td>18.0</td>\n",
       "      <td>1.0</td>\n",
       "      <td>1.0</td>\n",
       "      <td>1986.0</td>\n",
       "      <td>1.0</td>\n",
       "      <td>M</td>\n",
       "      <td>46.0</td>\n",
       "      <td>11.0</td>\n",
       "      <td>1.0</td>\n",
       "      <td>NaN</td>\n",
       "      <td>1.0</td>\n",
       "    </tr>\n",
       "    <tr>\n",
       "      <th>4</th>\n",
       "      <td>1999</td>\n",
       "      <td>1.0</td>\n",
       "      <td>1.0</td>\n",
       "      <td>8.0</td>\n",
       "      <td>2</td>\n",
       "      <td>1.0</td>\n",
       "      <td>1.0</td>\n",
       "      <td>NaN</td>\n",
       "      <td>5.0</td>\n",
       "      <td>3.0</td>\n",
       "      <td>6.0</td>\n",
       "      <td>18.0</td>\n",
       "      <td>99.0</td>\n",
       "      <td>NaN</td>\n",
       "      <td>NaN</td>\n",
       "      <td>1.0</td>\n",
       "      <td>M</td>\n",
       "      <td>5.0</td>\n",
       "      <td>99.0</td>\n",
       "      <td>2.0</td>\n",
       "      <td>NaN</td>\n",
       "      <td>3.0</td>\n",
       "    </tr>\n",
       "    <tr>\n",
       "      <th>...</th>\n",
       "      <td>...</td>\n",
       "      <td>...</td>\n",
       "      <td>...</td>\n",
       "      <td>...</td>\n",
       "      <td>...</td>\n",
       "      <td>...</td>\n",
       "      <td>...</td>\n",
       "      <td>...</td>\n",
       "      <td>...</td>\n",
       "      <td>...</td>\n",
       "      <td>...</td>\n",
       "      <td>...</td>\n",
       "      <td>...</td>\n",
       "      <td>...</td>\n",
       "      <td>...</td>\n",
       "      <td>...</td>\n",
       "      <td>...</td>\n",
       "      <td>...</td>\n",
       "      <td>...</td>\n",
       "      <td>...</td>\n",
       "      <td>...</td>\n",
       "      <td>...</td>\n",
       "    </tr>\n",
       "    <tr>\n",
       "      <th>5860400</th>\n",
       "      <td>2014</td>\n",
       "      <td>NaN</td>\n",
       "      <td>NaN</td>\n",
       "      <td>NaN</td>\n",
       "      <td>2</td>\n",
       "      <td>NaN</td>\n",
       "      <td>NaN</td>\n",
       "      <td>1.0</td>\n",
       "      <td>NaN</td>\n",
       "      <td>NaN</td>\n",
       "      <td>NaN</td>\n",
       "      <td>NaN</td>\n",
       "      <td>13.0</td>\n",
       "      <td>7.0</td>\n",
       "      <td>NaN</td>\n",
       "      <td>1.0</td>\n",
       "      <td>M</td>\n",
       "      <td>24.0</td>\n",
       "      <td>11.0</td>\n",
       "      <td>1.0</td>\n",
       "      <td>NaN</td>\n",
       "      <td>1.0</td>\n",
       "    </tr>\n",
       "    <tr>\n",
       "      <th>5860401</th>\n",
       "      <td>2014</td>\n",
       "      <td>NaN</td>\n",
       "      <td>NaN</td>\n",
       "      <td>23.0</td>\n",
       "      <td>2</td>\n",
       "      <td>1.0</td>\n",
       "      <td>6.0</td>\n",
       "      <td>5.0</td>\n",
       "      <td>1.0</td>\n",
       "      <td>1.0</td>\n",
       "      <td>NaN</td>\n",
       "      <td>18.0</td>\n",
       "      <td>1.0</td>\n",
       "      <td>14.0</td>\n",
       "      <td>2006.0</td>\n",
       "      <td>1.0</td>\n",
       "      <td>M</td>\n",
       "      <td>29.0</td>\n",
       "      <td>96.0</td>\n",
       "      <td>2.0</td>\n",
       "      <td>9.0</td>\n",
       "      <td>5.0</td>\n",
       "    </tr>\n",
       "    <tr>\n",
       "      <th>5860402</th>\n",
       "      <td>2014</td>\n",
       "      <td>NaN</td>\n",
       "      <td>NaN</td>\n",
       "      <td>14.0</td>\n",
       "      <td>2</td>\n",
       "      <td>1.0</td>\n",
       "      <td>2.0</td>\n",
       "      <td>1.0</td>\n",
       "      <td>1.0</td>\n",
       "      <td>5.0</td>\n",
       "      <td>4.0</td>\n",
       "      <td>18.0</td>\n",
       "      <td>1.0</td>\n",
       "      <td>1.0</td>\n",
       "      <td>2006.0</td>\n",
       "      <td>1.0</td>\n",
       "      <td>F</td>\n",
       "      <td>NaN</td>\n",
       "      <td>11.0</td>\n",
       "      <td>2.0</td>\n",
       "      <td>1.0</td>\n",
       "      <td>1.0</td>\n",
       "    </tr>\n",
       "    <tr>\n",
       "      <th>5860403</th>\n",
       "      <td>2014</td>\n",
       "      <td>NaN</td>\n",
       "      <td>NaN</td>\n",
       "      <td>22.0</td>\n",
       "      <td>1</td>\n",
       "      <td>1.0</td>\n",
       "      <td>6.0</td>\n",
       "      <td>1.0</td>\n",
       "      <td>2.0</td>\n",
       "      <td>4.0</td>\n",
       "      <td>NaN</td>\n",
       "      <td>18.0</td>\n",
       "      <td>1.0</td>\n",
       "      <td>22.0</td>\n",
       "      <td>NaN</td>\n",
       "      <td>1.0</td>\n",
       "      <td>M</td>\n",
       "      <td>67.0</td>\n",
       "      <td>12.0</td>\n",
       "      <td>3.0</td>\n",
       "      <td>1.0</td>\n",
       "      <td>NaN</td>\n",
       "    </tr>\n",
       "    <tr>\n",
       "      <th>5860404</th>\n",
       "      <td>2014</td>\n",
       "      <td>NaN</td>\n",
       "      <td>NaN</td>\n",
       "      <td>22.0</td>\n",
       "      <td>1</td>\n",
       "      <td>1.0</td>\n",
       "      <td>6.0</td>\n",
       "      <td>1.0</td>\n",
       "      <td>2.0</td>\n",
       "      <td>4.0</td>\n",
       "      <td>NaN</td>\n",
       "      <td>18.0</td>\n",
       "      <td>1.0</td>\n",
       "      <td>22.0</td>\n",
       "      <td>NaN</td>\n",
       "      <td>2.0</td>\n",
       "      <td>M</td>\n",
       "      <td>10.0</td>\n",
       "      <td>98.0</td>\n",
       "      <td>1.0</td>\n",
       "      <td>1.0</td>\n",
       "      <td>NaN</td>\n",
       "    </tr>\n",
       "  </tbody>\n",
       "</table>\n",
       "<p>5860405 rows × 22 columns</p>\n",
       "</div>"
      ],
      "text/plain": [
       "         c_year  c_mnth  c_wday  c_hour  c_sev  c_vehs  c_conf  c_rcfg  \\\n",
       "0          1999     1.0     1.0    20.0      2     2.0    34.0     NaN   \n",
       "1          1999     1.0     1.0    20.0      2     2.0    34.0     NaN   \n",
       "2          1999     1.0     1.0    20.0      2     2.0    34.0     NaN   \n",
       "3          1999     1.0     1.0     8.0      2     1.0     1.0     NaN   \n",
       "4          1999     1.0     1.0     8.0      2     1.0     1.0     NaN   \n",
       "...         ...     ...     ...     ...    ...     ...     ...     ...   \n",
       "5860400    2014     NaN     NaN     NaN      2     NaN     NaN     1.0   \n",
       "5860401    2014     NaN     NaN    23.0      2     1.0     6.0     5.0   \n",
       "5860402    2014     NaN     NaN    14.0      2     1.0     2.0     1.0   \n",
       "5860403    2014     NaN     NaN    22.0      1     1.0     6.0     1.0   \n",
       "5860404    2014     NaN     NaN    22.0      1     1.0     6.0     1.0   \n",
       "\n",
       "         c_wthr  c_rsur  c_raln  c_traf  v_id  v_type  v_year  p_id p_sex  \\\n",
       "0           1.0     5.0     3.0     3.0   1.0     6.0  1990.0   1.0     M   \n",
       "1           1.0     5.0     3.0     3.0   2.0     1.0  1987.0   1.0     M   \n",
       "2           1.0     5.0     3.0     3.0   2.0     1.0  1987.0   2.0     F   \n",
       "3           5.0     3.0     6.0    18.0   1.0     1.0  1986.0   1.0     M   \n",
       "4           5.0     3.0     6.0    18.0  99.0     NaN     NaN   1.0     M   \n",
       "...         ...     ...     ...     ...   ...     ...     ...   ...   ...   \n",
       "5860400     NaN     NaN     NaN     NaN  13.0     7.0     NaN   1.0     M   \n",
       "5860401     1.0     1.0     NaN    18.0   1.0    14.0  2006.0   1.0     M   \n",
       "5860402     1.0     5.0     4.0    18.0   1.0     1.0  2006.0   1.0     F   \n",
       "5860403     2.0     4.0     NaN    18.0   1.0    22.0     NaN   1.0     M   \n",
       "5860404     2.0     4.0     NaN    18.0   1.0    22.0     NaN   2.0     M   \n",
       "\n",
       "         p_age  p_psn  p_isev  p_safe  p_user  \n",
       "0         41.0   11.0     1.0     NaN     1.0  \n",
       "1         19.0   11.0     1.0     NaN     1.0  \n",
       "2         20.0   13.0     2.0     2.0     2.0  \n",
       "3         46.0   11.0     1.0     NaN     1.0  \n",
       "4          5.0   99.0     2.0     NaN     3.0  \n",
       "...        ...    ...     ...     ...     ...  \n",
       "5860400   24.0   11.0     1.0     NaN     1.0  \n",
       "5860401   29.0   96.0     2.0     9.0     5.0  \n",
       "5860402    NaN   11.0     2.0     1.0     1.0  \n",
       "5860403   67.0   12.0     3.0     1.0     NaN  \n",
       "5860404   10.0   98.0     1.0     1.0     NaN  \n",
       "\n",
       "[5860405 rows x 22 columns]"
      ]
     },
     "execution_count": 5,
     "metadata": {},
     "output_type": "execute_result"
    }
   ],
   "source": [
    "data.columns = data.columns.map(lambda x: x[:].lower())\n",
    "data"
   ]
  },
  {
   "cell_type": "markdown",
   "id": "e604abf3",
   "metadata": {},
   "source": [
    "**Vemos los valores nulos que hay en el datatset con esta funcion. Incluye todos los valores UU,QQ,NN....que hay en el datatset**"
   ]
  },
  {
   "cell_type": "code",
   "execution_count": 6,
   "id": "39352bfd",
   "metadata": {},
   "outputs": [
    {
     "data": {
      "text/html": [
       "<div>\n",
       "<style scoped>\n",
       "    .dataframe tbody tr th:only-of-type {\n",
       "        vertical-align: middle;\n",
       "    }\n",
       "\n",
       "    .dataframe tbody tr th {\n",
       "        vertical-align: top;\n",
       "    }\n",
       "\n",
       "    .dataframe thead th {\n",
       "        text-align: right;\n",
       "    }\n",
       "</style>\n",
       "<table border=\"1\" class=\"dataframe\">\n",
       "  <thead>\n",
       "    <tr style=\"text-align: right;\">\n",
       "      <th></th>\n",
       "      <th>Number of NA</th>\n",
       "      <th>Percent NA</th>\n",
       "    </tr>\n",
       "  </thead>\n",
       "  <tbody>\n",
       "    <tr>\n",
       "      <th>p_safe</th>\n",
       "      <td>1234284</td>\n",
       "      <td>21.06</td>\n",
       "    </tr>\n",
       "    <tr>\n",
       "      <th>c_rcfg</th>\n",
       "      <td>648946</td>\n",
       "      <td>11.07</td>\n",
       "    </tr>\n",
       "    <tr>\n",
       "      <th>v_year</th>\n",
       "      <td>584378</td>\n",
       "      <td>9.97</td>\n",
       "    </tr>\n",
       "    <tr>\n",
       "      <th>c_conf</th>\n",
       "      <td>463999</td>\n",
       "      <td>7.92</td>\n",
       "    </tr>\n",
       "    <tr>\n",
       "      <th>c_raln</th>\n",
       "      <td>463312</td>\n",
       "      <td>7.91</td>\n",
       "    </tr>\n",
       "    <tr>\n",
       "      <th>p_age</th>\n",
       "      <td>395156</td>\n",
       "      <td>6.74</td>\n",
       "    </tr>\n",
       "    <tr>\n",
       "      <th>p_isev</th>\n",
       "      <td>371412</td>\n",
       "      <td>6.34</td>\n",
       "    </tr>\n",
       "    <tr>\n",
       "      <th>c_traf</th>\n",
       "      <td>305501</td>\n",
       "      <td>5.21</td>\n",
       "    </tr>\n",
       "    <tr>\n",
       "      <th>v_type</th>\n",
       "      <td>283111</td>\n",
       "      <td>4.83</td>\n",
       "    </tr>\n",
       "    <tr>\n",
       "      <th>p_sex</th>\n",
       "      <td>249740</td>\n",
       "      <td>4.26</td>\n",
       "    </tr>\n",
       "    <tr>\n",
       "      <th>c_rsur</th>\n",
       "      <td>248668</td>\n",
       "      <td>4.24</td>\n",
       "    </tr>\n",
       "    <tr>\n",
       "      <th>p_user</th>\n",
       "      <td>175586</td>\n",
       "      <td>3.00</td>\n",
       "    </tr>\n",
       "    <tr>\n",
       "      <th>c_wthr</th>\n",
       "      <td>102988</td>\n",
       "      <td>1.76</td>\n",
       "    </tr>\n",
       "    <tr>\n",
       "      <th>p_psn</th>\n",
       "      <td>97677</td>\n",
       "      <td>1.67</td>\n",
       "    </tr>\n",
       "    <tr>\n",
       "      <th>c_hour</th>\n",
       "      <td>59409</td>\n",
       "      <td>1.01</td>\n",
       "    </tr>\n",
       "    <tr>\n",
       "      <th>p_id</th>\n",
       "      <td>10992</td>\n",
       "      <td>0.19</td>\n",
       "    </tr>\n",
       "    <tr>\n",
       "      <th>c_wday</th>\n",
       "      <td>1323</td>\n",
       "      <td>0.02</td>\n",
       "    </tr>\n",
       "    <tr>\n",
       "      <th>c_vehs</th>\n",
       "      <td>544</td>\n",
       "      <td>0.01</td>\n",
       "    </tr>\n",
       "    <tr>\n",
       "      <th>v_id</th>\n",
       "      <td>433</td>\n",
       "      <td>0.01</td>\n",
       "    </tr>\n",
       "    <tr>\n",
       "      <th>c_mnth</th>\n",
       "      <td>385</td>\n",
       "      <td>0.01</td>\n",
       "    </tr>\n",
       "  </tbody>\n",
       "</table>\n",
       "</div>"
      ],
      "text/plain": [
       "        Number of NA  Percent NA\n",
       "p_safe       1234284       21.06\n",
       "c_rcfg        648946       11.07\n",
       "v_year        584378        9.97\n",
       "c_conf        463999        7.92\n",
       "c_raln        463312        7.91\n",
       "p_age         395156        6.74\n",
       "p_isev        371412        6.34\n",
       "c_traf        305501        5.21\n",
       "v_type        283111        4.83\n",
       "p_sex         249740        4.26\n",
       "c_rsur        248668        4.24\n",
       "p_user        175586        3.00\n",
       "c_wthr        102988        1.76\n",
       "p_psn          97677        1.67\n",
       "c_hour         59409        1.01\n",
       "p_id           10992        0.19\n",
       "c_wday          1323        0.02\n",
       "c_vehs           544        0.01\n",
       "v_id             433        0.01\n",
       "c_mnth           385        0.01"
      ]
     },
     "execution_count": 6,
     "metadata": {},
     "output_type": "execute_result"
    }
   ],
   "source": [
    "def access_NA(data):\n",
    "    \n",
    "    null_sum = data.isnull().sum()\n",
    "    total = null_sum.sort_values(ascending=False)\n",
    "    percent = ( ((null_sum / len(data.index))*100).round(2) ).sort_values(ascending=False)\n",
    "    \n",
    "    \n",
    "    df_NA = pd.concat([total, percent], axis=1, keys=['Number of NA', 'Percent NA'])\n",
    "    \n",
    "    df_NA = df_NA[ (df_NA.T != 0).any() ]\n",
    "    \n",
    "    return df_NA\n",
    "access_NA(data)"
   ]
  },
  {
   "cell_type": "markdown",
   "id": "d15dbf53",
   "metadata": {},
   "source": [
    "**Hacemos target encoding a las variables que van a componer el dataset**"
   ]
  },
  {
   "cell_type": "code",
   "execution_count": 7,
   "id": "2da6587a",
   "metadata": {},
   "outputs": [],
   "source": [
    "colsenc = [\"p_sex\", \"p_safe\", \"c_rcfg\", \"v_year\", \"c_conf\", \"c_raln\", \"p_age\", \"c_traf\", \"v_type\", \"c_rsur\", \"c_wthr\", \"p_psn\", 'c_vehs', 'p_user']\n",
    "for i in colsenc:\n",
    "    te = ce.TargetEncoder(cols=colsenc)\n",
    "    data[colsenc] = te.fit_transform(data[colsenc],data.c_sev)"
   ]
  },
  {
   "cell_type": "code",
   "execution_count": 8,
   "id": "11982747",
   "metadata": {},
   "outputs": [
    {
     "data": {
      "text/html": [
       "<div>\n",
       "<style scoped>\n",
       "    .dataframe tbody tr th:only-of-type {\n",
       "        vertical-align: middle;\n",
       "    }\n",
       "\n",
       "    .dataframe tbody tr th {\n",
       "        vertical-align: top;\n",
       "    }\n",
       "\n",
       "    .dataframe thead th {\n",
       "        text-align: right;\n",
       "    }\n",
       "</style>\n",
       "<table border=\"1\" class=\"dataframe\">\n",
       "  <thead>\n",
       "    <tr style=\"text-align: right;\">\n",
       "      <th></th>\n",
       "      <th>Number of NA</th>\n",
       "      <th>Percent NA</th>\n",
       "    </tr>\n",
       "  </thead>\n",
       "  <tbody>\n",
       "    <tr>\n",
       "      <th>p_isev</th>\n",
       "      <td>371412</td>\n",
       "      <td>6.34</td>\n",
       "    </tr>\n",
       "    <tr>\n",
       "      <th>c_hour</th>\n",
       "      <td>59409</td>\n",
       "      <td>1.01</td>\n",
       "    </tr>\n",
       "    <tr>\n",
       "      <th>p_id</th>\n",
       "      <td>10992</td>\n",
       "      <td>0.19</td>\n",
       "    </tr>\n",
       "    <tr>\n",
       "      <th>c_wday</th>\n",
       "      <td>1323</td>\n",
       "      <td>0.02</td>\n",
       "    </tr>\n",
       "    <tr>\n",
       "      <th>v_id</th>\n",
       "      <td>433</td>\n",
       "      <td>0.01</td>\n",
       "    </tr>\n",
       "    <tr>\n",
       "      <th>c_mnth</th>\n",
       "      <td>385</td>\n",
       "      <td>0.01</td>\n",
       "    </tr>\n",
       "  </tbody>\n",
       "</table>\n",
       "</div>"
      ],
      "text/plain": [
       "        Number of NA  Percent NA\n",
       "p_isev        371412        6.34\n",
       "c_hour         59409        1.01\n",
       "p_id           10992        0.19\n",
       "c_wday          1323        0.02\n",
       "v_id             433        0.01\n",
       "c_mnth           385        0.01"
      ]
     },
     "execution_count": 8,
     "metadata": {},
     "output_type": "execute_result"
    }
   ],
   "source": [
    "access_NA(data)"
   ]
  },
  {
   "cell_type": "markdown",
   "id": "ca46ba89",
   "metadata": {},
   "source": [
    "**Al hacer el target encoding se nos van los \"Nas\" de las variables a las que les hemos hecho encoding. Pero siguen quedando variables con \"Nas\" ya que no les hemos hecho target encoding, esto se debe a que algunas de las variables las vamos a quitar ya que no aportan información sobre la variable target (p_id,v_id). Por otro lado p_isev la quitamos porque esta muy relacionada con la variable target, hasta el punto que incluye un valor que es fatality y ese es nuestro target. Si dejamos p_isev, en todas las muestras que p_isev sea fatality, nuestro modelo predeciría fatality solo con esa variable.\n",
    "Y por último eliminamos los \"Nas\" de las columnas c_mnth,c_wday y c_hour porque tienen muy poco porcentaje de \"Nas\"**"
   ]
  },
  {
   "cell_type": "code",
   "execution_count": 9,
   "id": "284bd3f7",
   "metadata": {},
   "outputs": [],
   "source": [
    "# Eliminamos del dataset las variables p_id y v_id porque no aportan nada a la variable target ya que son ids\n",
    "data = data.drop('p_id', axis=1)\n",
    "data = data.drop('v_id', axis=1)\n",
    "data = data.drop('p_isev', axis=1)"
   ]
  },
  {
   "cell_type": "code",
   "execution_count": 10,
   "id": "559b9d03",
   "metadata": {},
   "outputs": [],
   "source": [
    "# Quitamos los Nas restante de las variables relacionadas con el tiempo\n",
    "data = data[:]\n",
    "data[['c_mnth','c_wday','c_hour']] = data[['c_mnth','c_wday','c_hour']].replace('[^0-9]+',np.nan,regex=True)\n",
    "data.dropna(axis=0,subset=['c_mnth','c_wday','c_hour'],inplace=True)"
   ]
  },
  {
   "cell_type": "code",
   "execution_count": 12,
   "id": "3d00da42",
   "metadata": {},
   "outputs": [],
   "source": [
    "# Aqui solo cambiamos el valor númerico de las NO-FATALITIES de 2 a 0. Fatalities sigue teniendo el valor 1\n",
    "data['c_sev'] = data['c_sev'].replace([2],0)"
   ]
  },
  {
   "cell_type": "code",
   "execution_count": 13,
   "id": "60cb21ad",
   "metadata": {},
   "outputs": [
    {
     "data": {
      "text/html": [
       "<div>\n",
       "<style scoped>\n",
       "    .dataframe tbody tr th:only-of-type {\n",
       "        vertical-align: middle;\n",
       "    }\n",
       "\n",
       "    .dataframe tbody tr th {\n",
       "        vertical-align: top;\n",
       "    }\n",
       "\n",
       "    .dataframe thead th {\n",
       "        text-align: right;\n",
       "    }\n",
       "</style>\n",
       "<table border=\"1\" class=\"dataframe\">\n",
       "  <thead>\n",
       "    <tr style=\"text-align: right;\">\n",
       "      <th></th>\n",
       "      <th>c_year</th>\n",
       "      <th>c_mnth</th>\n",
       "      <th>c_wday</th>\n",
       "      <th>c_hour</th>\n",
       "      <th>c_sev</th>\n",
       "      <th>c_vehs</th>\n",
       "      <th>c_conf</th>\n",
       "      <th>c_rcfg</th>\n",
       "      <th>c_wthr</th>\n",
       "      <th>c_rsur</th>\n",
       "      <th>c_raln</th>\n",
       "      <th>c_traf</th>\n",
       "      <th>v_type</th>\n",
       "      <th>v_year</th>\n",
       "      <th>p_sex</th>\n",
       "      <th>p_age</th>\n",
       "      <th>p_psn</th>\n",
       "      <th>p_safe</th>\n",
       "      <th>p_user</th>\n",
       "    </tr>\n",
       "  </thead>\n",
       "  <tbody>\n",
       "    <tr>\n",
       "      <th>0</th>\n",
       "      <td>1999</td>\n",
       "      <td>1.0</td>\n",
       "      <td>1.0</td>\n",
       "      <td>20.0</td>\n",
       "      <td>0</td>\n",
       "      <td>1.986974</td>\n",
       "      <td>1.988019</td>\n",
       "      <td>1.986047</td>\n",
       "      <td>1.984029</td>\n",
       "      <td>1.981264</td>\n",
       "      <td>1.962848</td>\n",
       "      <td>1.986508</td>\n",
       "      <td>1.975794</td>\n",
       "      <td>1.983766</td>\n",
       "      <td>1.979479</td>\n",
       "      <td>1.984830</td>\n",
       "      <td>1.985432</td>\n",
       "      <td>1.982468</td>\n",
       "      <td>1.985795</td>\n",
       "    </tr>\n",
       "    <tr>\n",
       "      <th>1</th>\n",
       "      <td>1999</td>\n",
       "      <td>1.0</td>\n",
       "      <td>1.0</td>\n",
       "      <td>20.0</td>\n",
       "      <td>0</td>\n",
       "      <td>1.986974</td>\n",
       "      <td>1.988019</td>\n",
       "      <td>1.986047</td>\n",
       "      <td>1.984029</td>\n",
       "      <td>1.981264</td>\n",
       "      <td>1.962848</td>\n",
       "      <td>1.986508</td>\n",
       "      <td>1.985724</td>\n",
       "      <td>1.983068</td>\n",
       "      <td>1.979479</td>\n",
       "      <td>1.981803</td>\n",
       "      <td>1.985432</td>\n",
       "      <td>1.982468</td>\n",
       "      <td>1.985795</td>\n",
       "    </tr>\n",
       "    <tr>\n",
       "      <th>2</th>\n",
       "      <td>1999</td>\n",
       "      <td>1.0</td>\n",
       "      <td>1.0</td>\n",
       "      <td>20.0</td>\n",
       "      <td>0</td>\n",
       "      <td>1.986974</td>\n",
       "      <td>1.988019</td>\n",
       "      <td>1.986047</td>\n",
       "      <td>1.984029</td>\n",
       "      <td>1.981264</td>\n",
       "      <td>1.962848</td>\n",
       "      <td>1.986508</td>\n",
       "      <td>1.985724</td>\n",
       "      <td>1.983068</td>\n",
       "      <td>1.987427</td>\n",
       "      <td>1.982066</td>\n",
       "      <td>1.981640</td>\n",
       "      <td>1.987219</td>\n",
       "      <td>1.979957</td>\n",
       "    </tr>\n",
       "    <tr>\n",
       "      <th>3</th>\n",
       "      <td>1999</td>\n",
       "      <td>1.0</td>\n",
       "      <td>1.0</td>\n",
       "      <td>8.0</td>\n",
       "      <td>0</td>\n",
       "      <td>1.971385</td>\n",
       "      <td>1.968441</td>\n",
       "      <td>1.986047</td>\n",
       "      <td>1.973294</td>\n",
       "      <td>1.981168</td>\n",
       "      <td>1.963440</td>\n",
       "      <td>1.975880</td>\n",
       "      <td>1.985724</td>\n",
       "      <td>1.980637</td>\n",
       "      <td>1.979479</td>\n",
       "      <td>1.983823</td>\n",
       "      <td>1.985432</td>\n",
       "      <td>1.982468</td>\n",
       "      <td>1.985795</td>\n",
       "    </tr>\n",
       "    <tr>\n",
       "      <th>4</th>\n",
       "      <td>1999</td>\n",
       "      <td>1.0</td>\n",
       "      <td>1.0</td>\n",
       "      <td>8.0</td>\n",
       "      <td>0</td>\n",
       "      <td>1.971385</td>\n",
       "      <td>1.968441</td>\n",
       "      <td>1.986047</td>\n",
       "      <td>1.973294</td>\n",
       "      <td>1.981168</td>\n",
       "      <td>1.963440</td>\n",
       "      <td>1.975880</td>\n",
       "      <td>1.973498</td>\n",
       "      <td>1.979737</td>\n",
       "      <td>1.979479</td>\n",
       "      <td>1.985924</td>\n",
       "      <td>1.971061</td>\n",
       "      <td>1.982468</td>\n",
       "      <td>1.970885</td>\n",
       "    </tr>\n",
       "    <tr>\n",
       "      <th>...</th>\n",
       "      <td>...</td>\n",
       "      <td>...</td>\n",
       "      <td>...</td>\n",
       "      <td>...</td>\n",
       "      <td>...</td>\n",
       "      <td>...</td>\n",
       "      <td>...</td>\n",
       "      <td>...</td>\n",
       "      <td>...</td>\n",
       "      <td>...</td>\n",
       "      <td>...</td>\n",
       "      <td>...</td>\n",
       "      <td>...</td>\n",
       "      <td>...</td>\n",
       "      <td>...</td>\n",
       "      <td>...</td>\n",
       "      <td>...</td>\n",
       "      <td>...</td>\n",
       "      <td>...</td>\n",
       "    </tr>\n",
       "    <tr>\n",
       "      <th>5860376</th>\n",
       "      <td>2014</td>\n",
       "      <td>12.0</td>\n",
       "      <td>7.0</td>\n",
       "      <td>14.0</td>\n",
       "      <td>0</td>\n",
       "      <td>1.986974</td>\n",
       "      <td>1.981794</td>\n",
       "      <td>1.972239</td>\n",
       "      <td>1.984029</td>\n",
       "      <td>1.981264</td>\n",
       "      <td>1.986065</td>\n",
       "      <td>1.975880</td>\n",
       "      <td>1.983315</td>\n",
       "      <td>1.986157</td>\n",
       "      <td>1.979479</td>\n",
       "      <td>1.984182</td>\n",
       "      <td>1.985432</td>\n",
       "      <td>1.987219</td>\n",
       "      <td>1.985795</td>\n",
       "    </tr>\n",
       "    <tr>\n",
       "      <th>5860377</th>\n",
       "      <td>2014</td>\n",
       "      <td>12.0</td>\n",
       "      <td>7.0</td>\n",
       "      <td>14.0</td>\n",
       "      <td>0</td>\n",
       "      <td>1.986974</td>\n",
       "      <td>1.981794</td>\n",
       "      <td>1.972239</td>\n",
       "      <td>1.984029</td>\n",
       "      <td>1.981264</td>\n",
       "      <td>1.986065</td>\n",
       "      <td>1.975880</td>\n",
       "      <td>1.983315</td>\n",
       "      <td>1.986157</td>\n",
       "      <td>1.979479</td>\n",
       "      <td>1.985450</td>\n",
       "      <td>1.981640</td>\n",
       "      <td>1.987219</td>\n",
       "      <td>1.979957</td>\n",
       "    </tr>\n",
       "    <tr>\n",
       "      <th>5860378</th>\n",
       "      <td>2014</td>\n",
       "      <td>12.0</td>\n",
       "      <td>7.0</td>\n",
       "      <td>19.0</td>\n",
       "      <td>0</td>\n",
       "      <td>1.971385</td>\n",
       "      <td>1.960323</td>\n",
       "      <td>1.972239</td>\n",
       "      <td>1.984029</td>\n",
       "      <td>1.981168</td>\n",
       "      <td>1.959669</td>\n",
       "      <td>1.975880</td>\n",
       "      <td>1.985724</td>\n",
       "      <td>1.983385</td>\n",
       "      <td>1.987427</td>\n",
       "      <td>1.984683</td>\n",
       "      <td>1.985432</td>\n",
       "      <td>1.987219</td>\n",
       "      <td>1.985795</td>\n",
       "    </tr>\n",
       "    <tr>\n",
       "      <th>5860379</th>\n",
       "      <td>2014</td>\n",
       "      <td>12.0</td>\n",
       "      <td>7.0</td>\n",
       "      <td>19.0</td>\n",
       "      <td>0</td>\n",
       "      <td>1.971385</td>\n",
       "      <td>1.960323</td>\n",
       "      <td>1.972239</td>\n",
       "      <td>1.984029</td>\n",
       "      <td>1.981168</td>\n",
       "      <td>1.959669</td>\n",
       "      <td>1.975880</td>\n",
       "      <td>1.985724</td>\n",
       "      <td>1.983385</td>\n",
       "      <td>1.979479</td>\n",
       "      <td>1.984178</td>\n",
       "      <td>1.981640</td>\n",
       "      <td>1.987219</td>\n",
       "      <td>1.979957</td>\n",
       "    </tr>\n",
       "    <tr>\n",
       "      <th>5860380</th>\n",
       "      <td>2014</td>\n",
       "      <td>12.0</td>\n",
       "      <td>7.0</td>\n",
       "      <td>19.0</td>\n",
       "      <td>0</td>\n",
       "      <td>1.971385</td>\n",
       "      <td>1.960323</td>\n",
       "      <td>1.972239</td>\n",
       "      <td>1.984029</td>\n",
       "      <td>1.981168</td>\n",
       "      <td>1.959669</td>\n",
       "      <td>1.975880</td>\n",
       "      <td>1.985724</td>\n",
       "      <td>1.983385</td>\n",
       "      <td>1.987427</td>\n",
       "      <td>1.978578</td>\n",
       "      <td>1.979065</td>\n",
       "      <td>1.987219</td>\n",
       "      <td>1.979957</td>\n",
       "    </tr>\n",
       "  </tbody>\n",
       "</table>\n",
       "<p>5800193 rows × 19 columns</p>\n",
       "</div>"
      ],
      "text/plain": [
       "         c_year  c_mnth  c_wday  c_hour  c_sev    c_vehs    c_conf    c_rcfg  \\\n",
       "0          1999     1.0     1.0    20.0      0  1.986974  1.988019  1.986047   \n",
       "1          1999     1.0     1.0    20.0      0  1.986974  1.988019  1.986047   \n",
       "2          1999     1.0     1.0    20.0      0  1.986974  1.988019  1.986047   \n",
       "3          1999     1.0     1.0     8.0      0  1.971385  1.968441  1.986047   \n",
       "4          1999     1.0     1.0     8.0      0  1.971385  1.968441  1.986047   \n",
       "...         ...     ...     ...     ...    ...       ...       ...       ...   \n",
       "5860376    2014    12.0     7.0    14.0      0  1.986974  1.981794  1.972239   \n",
       "5860377    2014    12.0     7.0    14.0      0  1.986974  1.981794  1.972239   \n",
       "5860378    2014    12.0     7.0    19.0      0  1.971385  1.960323  1.972239   \n",
       "5860379    2014    12.0     7.0    19.0      0  1.971385  1.960323  1.972239   \n",
       "5860380    2014    12.0     7.0    19.0      0  1.971385  1.960323  1.972239   \n",
       "\n",
       "           c_wthr    c_rsur    c_raln    c_traf    v_type    v_year     p_sex  \\\n",
       "0        1.984029  1.981264  1.962848  1.986508  1.975794  1.983766  1.979479   \n",
       "1        1.984029  1.981264  1.962848  1.986508  1.985724  1.983068  1.979479   \n",
       "2        1.984029  1.981264  1.962848  1.986508  1.985724  1.983068  1.987427   \n",
       "3        1.973294  1.981168  1.963440  1.975880  1.985724  1.980637  1.979479   \n",
       "4        1.973294  1.981168  1.963440  1.975880  1.973498  1.979737  1.979479   \n",
       "...           ...       ...       ...       ...       ...       ...       ...   \n",
       "5860376  1.984029  1.981264  1.986065  1.975880  1.983315  1.986157  1.979479   \n",
       "5860377  1.984029  1.981264  1.986065  1.975880  1.983315  1.986157  1.979479   \n",
       "5860378  1.984029  1.981168  1.959669  1.975880  1.985724  1.983385  1.987427   \n",
       "5860379  1.984029  1.981168  1.959669  1.975880  1.985724  1.983385  1.979479   \n",
       "5860380  1.984029  1.981168  1.959669  1.975880  1.985724  1.983385  1.987427   \n",
       "\n",
       "            p_age     p_psn    p_safe    p_user  \n",
       "0        1.984830  1.985432  1.982468  1.985795  \n",
       "1        1.981803  1.985432  1.982468  1.985795  \n",
       "2        1.982066  1.981640  1.987219  1.979957  \n",
       "3        1.983823  1.985432  1.982468  1.985795  \n",
       "4        1.985924  1.971061  1.982468  1.970885  \n",
       "...           ...       ...       ...       ...  \n",
       "5860376  1.984182  1.985432  1.987219  1.985795  \n",
       "5860377  1.985450  1.981640  1.987219  1.979957  \n",
       "5860378  1.984683  1.985432  1.987219  1.985795  \n",
       "5860379  1.984178  1.981640  1.987219  1.979957  \n",
       "5860380  1.978578  1.979065  1.987219  1.979957  \n",
       "\n",
       "[5800193 rows x 19 columns]"
      ]
     },
     "execution_count": 13,
     "metadata": {},
     "output_type": "execute_result"
    }
   ],
   "source": [
    "data"
   ]
  },
  {
   "cell_type": "markdown",
   "id": "0fc5fea8",
   "metadata": {},
   "source": [
    "**Como vimos en el EDA la variable target c_sev esta muy desbalanceada**"
   ]
  },
  {
   "cell_type": "code",
   "execution_count": 14,
   "id": "871e943b",
   "metadata": {},
   "outputs": [
    {
     "name": "stderr",
     "output_type": "stream",
     "text": [
      "C:\\Users\\Usuario\\anaconda3\\envs\\core_models\\lib\\site-packages\\seaborn\\categorical.py:3704: UserWarning: The `factorplot` function has been renamed to `catplot`. The original name will be removed in a future release. Please update your code. Note that the default `kind` in `factorplot` (`'point'`) has changed `'strip'` in `catplot`.\n",
      "  warnings.warn(msg)\n",
      "C:\\Users\\Usuario\\anaconda3\\envs\\core_models\\lib\\site-packages\\seaborn\\_decorators.py:36: FutureWarning: Pass the following variable as a keyword arg: x. From version 0.12, the only valid positional argument will be `data`, and passing other arguments without an explicit keyword will result in an error or misinterpretation.\n",
      "  warnings.warn(\n"
     ]
    },
    {
     "data": {
      "text/plain": [
       "c_sev\n",
       "0    5702648\n",
       "1      97545\n",
       "dtype: int64"
      ]
     },
     "execution_count": 14,
     "metadata": {},
     "output_type": "execute_result"
    },
    {
     "data": {
      "image/png": "[encoded data removed]",
      "text/plain": [
       "<Figure size 360x360 with 1 Axes>"
      ]
     },
     "metadata": {
      "needs_background": "light"
     },
     "output_type": "display_data"
    }
   ],
   "source": [
    "sns.factorplot('c_sev',data=data,kind=\"count\")\n",
    "np.unique(data['c_sev'])\n",
    "data.groupby('c_sev').size()"
   ]
  },
  {
   "cell_type": "code",
   "execution_count": 15,
   "id": "9324506b",
   "metadata": {},
   "outputs": [],
   "source": [
    "# separamos la variable target del resto de variables\n",
    "X = data.drop('c_sev', axis=1)\n",
    "y = data.c_sev"
   ]
  },
  {
   "cell_type": "code",
   "execution_count": 16,
   "id": "21ed177a",
   "metadata": {},
   "outputs": [],
   "source": [
    "# Sepraramos train de test\n",
    "xtrain, xtest, ytrain, ytest = train_test_split( X, y, test_size=0.2, random_state=0)"
   ]
  },
  {
   "cell_type": "markdown",
   "id": "6d48b202",
   "metadata": {},
   "source": [
    "**Aplicamos Smote para hacer oversampling de 1s y poder entrenar mejor al modelo ya que hay un gran desbalanceo en la variable target**"
   ]
  },
  {
   "cell_type": "code",
   "execution_count": 17,
   "id": "994a8702",
   "metadata": {},
   "outputs": [],
   "source": [
    "sm = SMOTE(random_state = 12345, n_jobs=-1, sampling_strategy=0.45)\n",
    "X_train_oversampled, y_train_oversampled =sm.fit_resample(xtrain, ytrain)\n"
   ]
  },
  {
   "cell_type": "markdown",
   "id": "4d28f907",
   "metadata": {},
   "source": [
    "### MODELO DE ARBOL"
   ]
  },
  {
   "cell_type": "code",
   "execution_count": 21,
   "id": "034d5522",
   "metadata": {},
   "outputs": [],
   "source": [
    "# Primer modelo para probar\n",
    "Treemodel = DecisionTreeClassifier(random_state=0)"
   ]
  },
  {
   "cell_type": "code",
   "execution_count": 22,
   "id": "0c153c74",
   "metadata": {},
   "outputs": [
    {
     "data": {
      "text/plain": [
       "DecisionTreeClassifier(random_state=0)"
      ]
     },
     "execution_count": 22,
     "metadata": {},
     "output_type": "execute_result"
    }
   ],
   "source": [
    "Treemodel.fit(X_train_oversampled, y_train_oversampled)"
   ]
  },
  {
   "cell_type": "code",
   "execution_count": 23,
   "id": "6ad7fcd6",
   "metadata": {},
   "outputs": [
    {
     "data": {
      "text/plain": [
       "0.9657554616698232"
      ]
     },
     "execution_count": 23,
     "metadata": {},
     "output_type": "execute_result"
    }
   ],
   "source": [
    "Treemodel.score(xtest, ytest)"
   ]
  },
  {
   "cell_type": "code",
   "execution_count": 24,
   "id": "309008c5",
   "metadata": {},
   "outputs": [],
   "source": [
    "tree_pred = Treemodel.predict(xtest)"
   ]
  },
  {
   "cell_type": "markdown",
   "id": "1bc71f1e",
   "metadata": {},
   "source": [
    "**Matrices de confusión y classification report modelo arbol**"
   ]
  },
  {
   "cell_type": "code",
   "execution_count": 30,
   "id": "ef6ee519",
   "metadata": {},
   "outputs": [
    {
     "name": "stdout",
     "output_type": "stream",
     "text": [
      "              precision    recall  f1-score   support\n",
      "\n",
      "           0       0.99      0.98      0.98   1140522\n",
      "           1       0.13      0.19      0.16     19517\n",
      "\n",
      "    accuracy                           0.97   1160039\n",
      "   macro avg       0.56      0.58      0.57   1160039\n",
      "weighted avg       0.97      0.97      0.97   1160039\n",
      "\n"
     ]
    },
    {
     "data": {
      "image/png": "[encoded data removed]",
      "text/plain": [
       "<Figure size 432x288 with 2 Axes>"
      ]
     },
     "metadata": {
      "needs_background": "light"
     },
     "output_type": "display_data"
    }
   ],
   "source": [
    "confm_tree = confusion_matrix(ytest, tree_pred, normalize = 'true')\n",
    "sns.heatmap(confm_tree, cmap = 'Blues_r', annot = True)\n",
    "print(classification_report(ytest, tree_pred))"
   ]
  },
  {
   "cell_type": "markdown",
   "id": "4c8e58b8",
   "metadata": {},
   "source": [
    "**Curva de Roc modelo arbol**"
   ]
  },
  {
   "cell_type": "code",
   "execution_count": 99,
   "id": "d1406c5f",
   "metadata": {},
   "outputs": [
    {
     "data": {
      "image/png": "[encoded data removed]",
      "text/plain": [
       "<Figure size 432x288 with 1 Axes>"
      ]
     },
     "metadata": {
      "needs_background": "light"
     },
     "output_type": "display_data"
    }
   ],
   "source": [
    "fpr, tpr, thresholds = roc_curve(ytest, tree_pred)\n",
    "\n",
    "plt.plot([0,1], [0,1], linestyle='--', label='No Skill')\n",
    "plt.plot(fpr, tpr, marker='.', label='tree')\n",
    "\n",
    "plt.xlabel('False Positive Rate')\n",
    "plt.ylabel('True Positive Rate')\n",
    "plt.legend()\n",
    "\n",
    "plt.show()"
   ]
  },
  {
   "cell_type": "code",
   "execution_count": 98,
   "id": "450f09ca",
   "metadata": {},
   "outputs": [],
   "source": [
    "# Guardamos modelos\n",
    "pickle.dump(Treemodel, open('tree.sav', 'wb'))"
   ]
  },
  {
   "cell_type": "markdown",
   "id": "bb8653c6",
   "metadata": {},
   "source": [
    "### LASSO para seleccion de variables"
   ]
  },
  {
   "cell_type": "code",
   "execution_count": 33,
   "id": "ef6ade03",
   "metadata": {},
   "outputs": [
    {
     "name": "stdout",
     "output_type": "stream",
     "text": [
      "total features: 18\n",
      "selected features: 14\n"
     ]
    },
    {
     "name": "stderr",
     "output_type": "stream",
     "text": [
      "C:\\Users\\Usuario\\anaconda3\\envs\\core_models\\lib\\site-packages\\sklearn\\svm\\_base.py:976: ConvergenceWarning: Liblinear failed to converge, increase the number of iterations.\n",
      "  warnings.warn(\"Liblinear failed to converge, increase \"\n"
     ]
    },
    {
     "data": {
      "image/png": "[encoded data removed]",
      "text/plain": [
       "<Figure size 1152x276.48 with 1 Axes>"
      ]
     },
     "metadata": {
      "needs_background": "light"
     },
     "output_type": "display_data"
    }
   ],
   "source": [
    "sel_lasso = SelectFromModel(LogisticRegression(C=1, penalty='l1', \n",
    "                                          solver='liblinear'), threshold = 0.10)\n",
    "sel_lasso.fit(X_train_oversampled, y_train_oversampled)\n",
    "sel_lasso.get_support()\n",
    "selected_feat_lasso = X_train_oversampled.columns[sel_lasso.get_support()]\n",
    "selected_feat_lasso\n",
    "print('total features: {}'.format((X_train_oversampled.shape[1])))\n",
    "print('selected features: {}'.format(len(selected_feat_lasso)))\n",
    "df_coeficientes_lasso = pd.DataFrame(\n",
    "                        {'predictor': X_train_oversampled.columns,\n",
    "                         'coef': sel_lasso.estimator_.coef_.flatten()}\n",
    "                  )\n",
    "\n",
    "fig, ax = plt.subplots(figsize=(16, 3.84))\n",
    "ax.stem(df_coeficientes_lasso.predictor, df_coeficientes_lasso.coef, markerfmt=' ')\n",
    "plt.xticks(rotation=90, ha='right', size=10)\n",
    "ax.set_xlabel('variable')\n",
    "ax.set_ylabel('coeficientes')\n",
    "ax.set_title('Coeficientes del modelo lasso');"
   ]
  },
  {
   "cell_type": "code",
   "execution_count": 95,
   "id": "6ddbcbea",
   "metadata": {},
   "outputs": [],
   "source": [
    "pickle.dump(sel_lasso, open('lasso.sav', 'wb'))"
   ]
  },
  {
   "cell_type": "code",
   "execution_count": 125,
   "id": "3cc78810",
   "metadata": {},
   "outputs": [],
   "source": [
    "# Nuevas variables de X solo con la columnas seleccionadas por el Lasso( mismas variables quitando las relacionadas con el\n",
    "# el tiempo (c_year,c_mnth,c_wday,c_hour)\n",
    "xtrainlasso = X_train_oversampled[selected_feat_lasso]\n",
    "xtestlasso = xtest[selected_feat_lasso]"
   ]
  },
  {
   "cell_type": "markdown",
   "id": "9eeaba3b",
   "metadata": {},
   "source": [
    "### XGBClassifier"
   ]
  },
  {
   "cell_type": "code",
   "execution_count": 126,
   "id": "66b95835",
   "metadata": {},
   "outputs": [],
   "source": [
    "# Primer modelo tras la selección de variables\n",
    "clf_xgb = xgb.XGBClassifier()"
   ]
  },
  {
   "cell_type": "code",
   "execution_count": 127,
   "id": "ff0abf07",
   "metadata": {},
   "outputs": [
    {
     "name": "stderr",
     "output_type": "stream",
     "text": [
      "C:\\Users\\Usuario\\anaconda3\\envs\\core_models\\lib\\site-packages\\xgboost\\sklearn.py:1224: UserWarning: The use of label encoder in XGBClassifier is deprecated and will be removed in a future release. To remove this warning, do the following: 1) Pass option use_label_encoder=False when constructing XGBClassifier object; and 2) Encode your labels (y) as integers starting with 0, i.e. 0, 1, 2, ..., [num_class - 1].\n",
      "  warnings.warn(label_encoder_deprecation_msg, UserWarning)\n"
     ]
    },
    {
     "name": "stdout",
     "output_type": "stream",
     "text": [
      "[00:42:54] WARNING: D:\\bld\\xgboost-split_1637426510059\\work\\src\\learner.cc:1115: Starting in XGBoost 1.3.0, the default evaluation metric used with the objective 'binary:logistic' was changed from 'error' to 'logloss'. Explicitly set eval_metric if you'd like to restore the old behavior.\n"
     ]
    },
    {
     "data": {
      "text/plain": [
       "XGBClassifier(base_score=0.5, booster='gbtree', colsample_bylevel=1,\n",
       "              colsample_bynode=1, colsample_bytree=1, enable_categorical=False,\n",
       "              gamma=0, gpu_id=-1, importance_type=None,\n",
       "              interaction_constraints='', learning_rate=0.300000012,\n",
       "              max_delta_step=0, max_depth=6, min_child_weight=1, missing=nan,\n",
       "              monotone_constraints='()', n_estimators=100, n_jobs=12,\n",
       "              num_parallel_tree=1, predictor='auto', random_state=0,\n",
       "              reg_alpha=0, reg_lambda=1, scale_pos_weight=1, subsample=1,\n",
       "              tree_method='approx', validate_parameters=1, verbosity=None)"
      ]
     },
     "execution_count": 127,
     "metadata": {},
     "output_type": "execute_result"
    }
   ],
   "source": [
    "clf_xgb.fit(xtrainlasso, y_train_oversampled)"
   ]
  },
  {
   "cell_type": "code",
   "execution_count": 128,
   "id": "607b6a91",
   "metadata": {},
   "outputs": [],
   "source": [
    "xgb_pred = clf_xgb.predict(xtestlasso)"
   ]
  },
  {
   "cell_type": "code",
   "execution_count": 129,
   "id": "d2878108",
   "metadata": {},
   "outputs": [
    {
     "data": {
      "text/plain": [
       "0.9813264898852538"
      ]
     },
     "execution_count": 129,
     "metadata": {},
     "output_type": "execute_result"
    }
   ],
   "source": [
    "clf_xgb.score(xtestlasso, ytest)"
   ]
  },
  {
   "cell_type": "markdown",
   "id": "7ee59c52",
   "metadata": {},
   "source": [
    "**Matrices de confusión y classification report modelo arbol**"
   ]
  },
  {
   "cell_type": "code",
   "execution_count": 130,
   "id": "a40346bb",
   "metadata": {},
   "outputs": [
    {
     "name": "stdout",
     "output_type": "stream",
     "text": [
      "              precision    recall  f1-score   support\n",
      "\n",
      "           0       0.98      1.00      0.99   1140522\n",
      "           1       0.26      0.06      0.10     19517\n",
      "\n",
      "    accuracy                           0.98   1160039\n",
      "   macro avg       0.62      0.53      0.54   1160039\n",
      "weighted avg       0.97      0.98      0.98   1160039\n",
      "\n"
     ]
    },
    {
     "data": {
      "image/png": "[encoded data removed]",
      "text/plain": [
       "<Figure size 432x288 with 2 Axes>"
      ]
     },
     "metadata": {
      "needs_background": "light"
     },
     "output_type": "display_data"
    }
   ],
   "source": [
    "confm_xgb = confusion_matrix(ytest, xgb_pred, normalize = 'true')\n",
    "sns.heatmap(confm_xgb, cmap = 'Blues_r', annot = True)\n",
    "print(classification_report(ytest, xgb_pred))"
   ]
  },
  {
   "cell_type": "markdown",
   "id": "ac19fab0",
   "metadata": {},
   "source": [
    "**Seguimos teniendo problemas para predecir las muertes ya que obtenemos un fscore para muertes de 0.10**"
   ]
  },
  {
   "cell_type": "code",
   "execution_count": 96,
   "id": "6d2b7d45",
   "metadata": {},
   "outputs": [],
   "source": [
    "# Guaramos resultado del modelo\n",
    "pickle.dump(clf_xgb, open('xgb.sav', 'wb'))"
   ]
  },
  {
   "cell_type": "markdown",
   "id": "98123ce9",
   "metadata": {},
   "source": [
    "**Curva de Roc**"
   ]
  },
  {
   "cell_type": "code",
   "execution_count": 142,
   "id": "3a4c7824",
   "metadata": {},
   "outputs": [
    {
     "data": {
      "image/png": "[encoded data removed]",
      "text/plain": [
       "<Figure size 432x288 with 1 Axes>"
      ]
     },
     "metadata": {
      "needs_background": "light"
     },
     "output_type": "display_data"
    }
   ],
   "source": [
    "fpr, tpr, thresholds = roc_curve(ytest, xgb_pred)\n",
    "\n",
    "plt.plot([0,1], [0,1], linestyle='--', label='No Skill')\n",
    "plt.plot(fpr, tpr, marker='.', label='xgb')\n",
    "\n",
    "plt.xlabel('False Positive Rate')\n",
    "plt.ylabel('True Positive Rate')\n",
    "plt.legend()\n",
    "\n",
    "plt.show()"
   ]
  },
  {
   "cell_type": "markdown",
   "id": "efeaacf2",
   "metadata": {},
   "source": [
    "### RANDOMFOREST"
   ]
  },
  {
   "cell_type": "code",
   "execution_count": 131,
   "id": "0ccce6ad",
   "metadata": {},
   "outputs": [],
   "source": [
    "# Hacemos randomforest aplicando mas peso a la predicción de muertes\n",
    "rf3 = RandomForestClassifier(class_weight = {1:2.5, 0:0.05})"
   ]
  },
  {
   "cell_type": "code",
   "execution_count": 132,
   "id": "756b29a9",
   "metadata": {},
   "outputs": [
    {
     "data": {
      "text/plain": [
       "RandomForestClassifier(class_weight={0: 0.05, 1: 2.5})"
      ]
     },
     "execution_count": 132,
     "metadata": {},
     "output_type": "execute_result"
    }
   ],
   "source": [
    "rf3.fit(xtrainlasso, y_train_oversampled)"
   ]
  },
  {
   "cell_type": "code",
   "execution_count": 133,
   "id": "2cf8f5be",
   "metadata": {},
   "outputs": [],
   "source": [
    "rf_pred3 = rf3.predict(xtestlasso)"
   ]
  },
  {
   "cell_type": "code",
   "execution_count": 134,
   "id": "ce45222f",
   "metadata": {},
   "outputs": [
    {
     "data": {
      "text/plain": [
       "0.9712483804423817"
      ]
     },
     "execution_count": 134,
     "metadata": {},
     "output_type": "execute_result"
    }
   ],
   "source": [
    "rf3.score(xtestlasso, ytest)"
   ]
  },
  {
   "cell_type": "markdown",
   "id": "e1dbf9e3",
   "metadata": {},
   "source": [
    "**Matrices de confusión y classification report modelo arbol**"
   ]
  },
  {
   "cell_type": "code",
   "execution_count": 135,
   "id": "2a09f9f0",
   "metadata": {},
   "outputs": [
    {
     "name": "stdout",
     "output_type": "stream",
     "text": [
      "              precision    recall  f1-score   support\n",
      "\n",
      "           0       0.98      0.99      0.99   1140522\n",
      "           1       0.11      0.10      0.10     19517\n",
      "\n",
      "    accuracy                           0.97   1160039\n",
      "   macro avg       0.55      0.54      0.54   1160039\n",
      "weighted avg       0.97      0.97      0.97   1160039\n",
      "\n"
     ]
    },
    {
     "data": {
      "image/png": "[encoded data removed]",
      "text/plain": [
       "<Figure size 432x288 with 2 Axes>"
      ]
     },
     "metadata": {
      "needs_background": "light"
     },
     "output_type": "display_data"
    }
   ],
   "source": [
    "confm_rf = confusion_matrix(ytest, rf_pred3, normalize = 'true')\n",
    "sns.heatmap(confm_rf, cmap = 'Blues_r', annot = True)\n",
    "print(classification_report(ytest, rf_pred3))"
   ]
  },
  {
   "cell_type": "markdown",
   "id": "17813835",
   "metadata": {},
   "source": [
    "**Vemos que seguimos obteniendo resultados pobres para la predicción de muertes, fscore de 0.10**"
   ]
  },
  {
   "cell_type": "code",
   "execution_count": 92,
   "id": "047c7a66",
   "metadata": {},
   "outputs": [],
   "source": [
    "# Guardamos este modelo con Pickle.\n",
    "pickle.dump(rf3, open('rfsel.sav', 'wb'))"
   ]
  },
  {
   "cell_type": "markdown",
   "id": "7a7951d0",
   "metadata": {},
   "source": [
    "**Curva de Roc**"
   ]
  },
  {
   "cell_type": "code",
   "execution_count": 136,
   "id": "6fa239de",
   "metadata": {},
   "outputs": [
    {
     "data": {
      "image/png": "[encoded data removed]",
      "text/plain": [
       "<Figure size 432x288 with 1 Axes>"
      ]
     },
     "metadata": {
      "needs_background": "light"
     },
     "output_type": "display_data"
    }
   ],
   "source": [
    "fpr, tpr, thresholds = roc_curve(ytest, rf_pred3)\n",
    "\n",
    "plt.plot([0,1], [0,1], linestyle='--', label='No Skill')\n",
    "plt.plot(fpr, tpr, marker='.', label='rf')\n",
    "\n",
    "plt.xlabel('False Positive Rate')\n",
    "plt.ylabel('True Positive Rate')\n",
    "plt.legend()\n",
    "\n",
    "plt.show()"
   ]
  },
  {
   "cell_type": "markdown",
   "id": "489b18bd",
   "metadata": {},
   "source": [
    "### LIGHTGBM"
   ]
  },
  {
   "cell_type": "code",
   "execution_count": 137,
   "id": "c155fa59",
   "metadata": {},
   "outputs": [
    {
     "data": {
      "text/plain": [
       "LGBMClassifier()"
      ]
     },
     "execution_count": 137,
     "metadata": {},
     "output_type": "execute_result"
    }
   ],
   "source": [
    "lightgbm = lgb.LGBMClassifier()\n",
    "lightgbm.fit(xtrainlasso, y_train_oversampled)"
   ]
  },
  {
   "cell_type": "code",
   "execution_count": 138,
   "id": "effe2f00",
   "metadata": {},
   "outputs": [
    {
     "data": {
      "text/plain": [
       "0.9822704236667905"
      ]
     },
     "execution_count": 138,
     "metadata": {},
     "output_type": "execute_result"
    }
   ],
   "source": [
    "lightgbm.score(xtestlasso, ytest)"
   ]
  },
  {
   "cell_type": "code",
   "execution_count": 139,
   "id": "6c1539dd",
   "metadata": {},
   "outputs": [],
   "source": [
    "lightgbm_pred = lightgbm.predict(xtestlasso)"
   ]
  },
  {
   "cell_type": "markdown",
   "id": "d1f7e2ca",
   "metadata": {},
   "source": [
    "**Matrices de confusión y classification report modelo arbol**"
   ]
  },
  {
   "cell_type": "code",
   "execution_count": 140,
   "id": "97a0c609",
   "metadata": {},
   "outputs": [
    {
     "name": "stdout",
     "output_type": "stream",
     "text": [
      "              precision    recall  f1-score   support\n",
      "\n",
      "           0       0.98      1.00      0.99   1140522\n",
      "           1       0.25      0.03      0.05     19517\n",
      "\n",
      "    accuracy                           0.98   1160039\n",
      "   macro avg       0.62      0.51      0.52   1160039\n",
      "weighted avg       0.97      0.98      0.98   1160039\n",
      "\n"
     ]
    },
    {
     "data": {
      "image/png": "[encoded data removed]",
      "text/plain": [
       "<Figure size 432x288 with 2 Axes>"
      ]
     },
     "metadata": {
      "needs_background": "light"
     },
     "output_type": "display_data"
    }
   ],
   "source": [
    "confm_lgbm = confusion_matrix(ytest, lightgbm_pred, normalize = 'true')\n",
    "sns.heatmap(confm_lgbm, cmap = 'Blues_r', annot = True)\n",
    "print(classification_report(ytest, lightgbm_pred))"
   ]
  },
  {
   "cell_type": "markdown",
   "id": "7b50dee4",
   "metadata": {},
   "source": [
    "**Vemos que el lightGBM también da peores resultados que el Randomforest**"
   ]
  },
  {
   "cell_type": "code",
   "execution_count": 97,
   "id": "5f232406",
   "metadata": {},
   "outputs": [],
   "source": [
    "# Guardamos modelos\n",
    "pickle.dump(lightgbm, open('lgbm.sav', 'wb'))"
   ]
  },
  {
   "cell_type": "markdown",
   "id": "aed4ca7d",
   "metadata": {},
   "source": [
    "**Curva de Roc**"
   ]
  },
  {
   "cell_type": "code",
   "execution_count": 141,
   "id": "6e8a7e39",
   "metadata": {},
   "outputs": [
    {
     "data": {
      "image/png": "[encoded data removed]",
      "text/plain": [
       "<Figure size 432x288 with 1 Axes>"
      ]
     },
     "metadata": {
      "needs_background": "light"
     },
     "output_type": "display_data"
    }
   ],
   "source": [
    "fpr, tpr, thresholds = roc_curve(ytest, lightgbm_pred)\n",
    "\n",
    "plt.plot([0,1], [0,1], linestyle='--', label='No Skill')\n",
    "plt.plot(fpr, tpr, marker='.', label='lgbm')\n",
    "\n",
    "plt.xlabel('False Positive Rate')\n",
    "plt.ylabel('True Positive Rate')\n",
    "plt.legend()\n",
    "\n",
    "plt.show()"
   ]
  },
  {
   "cell_type": "markdown",
   "id": "9d6af27f",
   "metadata": {},
   "source": [
    "### Modelo seleccionado: Randomforest"
   ]
  },
  {
   "cell_type": "markdown",
   "id": "1f5418f7",
   "metadata": {},
   "source": [
    "**Seleccionamos el RandomForest porque de todos los modelos que hemos probado varias veces es el que mas fscore para muertes nos ha dado**"
   ]
  },
  {
   "cell_type": "code",
   "execution_count": 143,
   "id": "5d2ea404",
   "metadata": {},
   "outputs": [],
   "source": [
    "# Buscamos hiperparametros, al final hemos seleccionado:\n",
    "# Numero de arboles\n",
    "n_estimators = [150]\n",
    "# Numero de variables que tienen sentido en casa arbol\n",
    "max_features = ['auto']\n",
    "# Maxima profundidad del arbol\n",
    "max_depth = [4]\n",
    "# Creamos grid\n",
    "random_grid = {'n_estimators': n_estimators,\n",
    "               'max_features': max_features,\n",
    "               'max_depth': max_depth}"
   ]
  },
  {
   "cell_type": "code",
   "execution_count": 144,
   "id": "1f3d5188",
   "metadata": {},
   "outputs": [],
   "source": [
    "# Mismo RandomForest que habíamos aplicado previamente\n",
    "rfselec = RandomForestClassifier(random_state=0, class_weight = {1:2.5, 0:1})"
   ]
  },
  {
   "cell_type": "code",
   "execution_count": 145,
   "id": "9dbd8145",
   "metadata": {},
   "outputs": [],
   "source": [
    "# Hacemos RandomizedSearchCV aunque le hemos metido los parametros directamente ya que si probamos entre varios posibles\n",
    "# parametros el modelo no corre. También incluimos el Cross-Validation\n",
    "rfselec_random = RandomizedSearchCV(estimator = rfselec, param_distributions = random_grid, cv = 5, random_state=0, n_jobs = -1)"
   ]
  },
  {
   "cell_type": "code",
   "execution_count": 197,
   "id": "d3083ec5",
   "metadata": {},
   "outputs": [],
   "source": [
    "# Guardamos los ficheros en formato parquet para poder importarlos posteriormente en el notebook de explicabilidad\n",
    "xtrainlasso.to_parquet('xtrainlasso.parquet')\n",
    "xtestlasso.to_parquet('xtestlasso.parquet')\n",
    "pd.DataFrame(y_train_oversampled).to_parquet('y_train_oversampled.parquet')\n",
    "pd.DataFrame(ytest).to_parquet('ytest.parquet')"
   ]
  },
  {
   "cell_type": "code",
   "execution_count": 146,
   "id": "208f799a",
   "metadata": {},
   "outputs": [
    {
     "name": "stderr",
     "output_type": "stream",
     "text": [
      "C:\\Users\\Usuario\\anaconda3\\envs\\core_models\\lib\\site-packages\\sklearn\\model_selection\\_search.py:278: UserWarning: The total space of parameters 1 is smaller than n_iter=10. Running 1 iterations. For exhaustive searches, use GridSearchCV.\n",
      "  warnings.warn(\n"
     ]
    },
    {
     "data": {
      "text/plain": [
       "RandomizedSearchCV(cv=5,\n",
       "                   estimator=RandomForestClassifier(class_weight={0: 1, 1: 2.5},\n",
       "                                                    random_state=0),\n",
       "                   n_jobs=-1,\n",
       "                   param_distributions={'max_depth': [4],\n",
       "                                        'max_features': ['auto'],\n",
       "                                        'n_estimators': [150]},\n",
       "                   random_state=0)"
      ]
     },
     "execution_count": 146,
     "metadata": {},
     "output_type": "execute_result"
    }
   ],
   "source": [
    "rfselec_random.fit(xtrainlasso, y_train_oversampled)"
   ]
  },
  {
   "cell_type": "code",
   "execution_count": 155,
   "id": "c95d1fe7",
   "metadata": {},
   "outputs": [
    {
     "data": {
      "text/plain": [
       "0.7987843512157781"
      ]
     },
     "execution_count": 155,
     "metadata": {},
     "output_type": "execute_result"
    }
   ],
   "source": [
    "rfselec_random.score(xtestlasso, ytest)"
   ]
  },
  {
   "cell_type": "code",
   "execution_count": 156,
   "id": "379cccb1",
   "metadata": {},
   "outputs": [],
   "source": [
    "rfselec_random_pred = rfselec_random.predict(xtestlasso)"
   ]
  },
  {
   "cell_type": "code",
   "execution_count": 157,
   "id": "8058b30e",
   "metadata": {},
   "outputs": [
    {
     "name": "stdout",
     "output_type": "stream",
     "text": [
      "              precision    recall  f1-score   support\n",
      "\n",
      "           0       0.98      1.00      0.99   1140522\n",
      "           1       0.25      0.03      0.05     19517\n",
      "\n",
      "    accuracy                           0.98   1160039\n",
      "   macro avg       0.62      0.51      0.52   1160039\n",
      "weighted avg       0.97      0.98      0.98   1160039\n",
      "\n"
     ]
    },
    {
     "data": {
      "image/png": "[encoded data removed]",
      "text/plain": [
       "<Figure size 432x288 with 2 Axes>"
      ]
     },
     "metadata": {
      "needs_background": "light"
     },
     "output_type": "display_data"
    }
   ],
   "source": [
    "confm_lgbm = confusion_matrix(ytest, rfselec_random_pred, normalize = 'true')\n",
    "sns.heatmap(confm_lgbm, cmap = 'Blues_r', annot = True)\n",
    "print(classification_report(ytest, lightgbm_pred))"
   ]
  },
  {
   "cell_type": "markdown",
   "id": "d46e0f6e",
   "metadata": {},
   "source": [
    "**Con el Cross-Validation, el f1score de muertes es mas bajo pero mas realista, ya que valida mejor el modelo**"
   ]
  },
  {
   "cell_type": "markdown",
   "id": "d54edf01",
   "metadata": {},
   "source": [
    "**Empezamos el proceso para obtener el mejor threshold para predecir muertes, a traves de la curva de Roc**"
   ]
  },
  {
   "cell_type": "code",
   "execution_count": 158,
   "id": "9c06187e",
   "metadata": {},
   "outputs": [],
   "source": [
    "# Obtenemos las probabilidades de las predicciones de la muestra de xtestlasso\n",
    "prob_predictions = rfselec_random.predict_proba(xtestlasso)"
   ]
  },
  {
   "cell_type": "code",
   "execution_count": 159,
   "id": "6c94a8ad",
   "metadata": {},
   "outputs": [
    {
     "data": {
      "image/png": "[encoded data removed]",
      "text/plain": [
       "<Figure size 432x288 with 1 Axes>"
      ]
     },
     "metadata": {
      "needs_background": "light"
     },
     "output_type": "display_data"
    }
   ],
   "source": [
    "# Nos quedamos con las probabilidades de la prediccion de muertes\n",
    "yhat = prob_predictions[:, 1]\n",
    "# calculamos curva de Roc\n",
    "fpr, tpr, thresholds = roc_curve(ytest, yhat)\n",
    "\n",
    "plt.plot([0,1], [0,1], linestyle='--', label='No Skill')\n",
    "plt.plot(fpr, tpr, marker='.', label='Random Forest')\n",
    "\n",
    "plt.xlabel('False Positive Rate')\n",
    "plt.ylabel('True Positive Rate')\n",
    "plt.legend()\n",
    "\n",
    "plt.show()"
   ]
  },
  {
   "cell_type": "code",
   "execution_count": 160,
   "id": "630f80d9",
   "metadata": {},
   "outputs": [],
   "source": [
    "# calculamos media geometrica para cada threshold\n",
    "gmeans = np.sqrt(tpr * (1-fpr))"
   ]
  },
  {
   "cell_type": "code",
   "execution_count": 161,
   "id": "ae55939b",
   "metadata": {},
   "outputs": [
    {
     "name": "stdout",
     "output_type": "stream",
     "text": [
      "Best Threshold=0.418772, G-Mean=0.717\n"
     ]
    }
   ],
   "source": [
    "# Localizamos el indice con la media geometrica mas alta\n",
    "ix = np.argmax(gmeans)\n",
    "print('Best Threshold=%f, G-Mean=%.3f' % (thresholds[ix], gmeans[ix]))"
   ]
  },
  {
   "cell_type": "code",
   "execution_count": 162,
   "id": "1ef96ae8",
   "metadata": {},
   "outputs": [
    {
     "data": {
      "image/png": "[encoded data removed]",
      "text/plain": [
       "<Figure size 432x288 with 1 Axes>"
      ]
     },
     "metadata": {
      "needs_background": "light"
     },
     "output_type": "display_data"
    }
   ],
   "source": [
    "# Sacamos curva de roc con el mejor Threshold\n",
    "plt.plot([0,1], [0,1], linestyle='--', label='No Skill')\n",
    "plt.plot(fpr, tpr, marker='.', label='Random Forest')\n",
    "plt.scatter(fpr[ix], tpr[ix], s=100, marker='o', color='black', label='Best')\n",
    "# axis labels\n",
    "plt.xlabel('False Positive Rate')\n",
    "plt.ylabel('True Positive Rate')\n",
    "plt.legend()\n",
    "# show the plot\n",
    "plt.show()"
   ]
  },
  {
   "cell_type": "code",
   "execution_count": 163,
   "id": "18d22f14",
   "metadata": {},
   "outputs": [],
   "source": [
    "# Calculamos curva de precision y recall\n",
    "precision, recall, thresholds = precision_recall_curve(ytest, yhat)"
   ]
  },
  {
   "cell_type": "code",
   "execution_count": 164,
   "id": "8a1f2502",
   "metadata": {},
   "outputs": [
    {
     "data": {
      "image/png": "[encoded data removed]",
      "text/plain": [
       "<Figure size 432x288 with 1 Axes>"
      ]
     },
     "metadata": {
      "needs_background": "light"
     },
     "output_type": "display_data"
    }
   ],
   "source": [
    "no_skill = len(ytest[ytest==1]) / len(ytest)\n",
    "plt.plot([0,1], [no_skill,no_skill], linestyle='--', label='No Skill')\n",
    "plt.plot(recall, precision, marker='.', label='Random Forest')\n",
    "# axis labels\n",
    "plt.xlabel('Recall')\n",
    "plt.ylabel('Precision')\n",
    "plt.legend()\n",
    "# show the plot\n",
    "plt.show()"
   ]
  },
  {
   "cell_type": "code",
   "execution_count": 165,
   "id": "3d22f7ce",
   "metadata": {},
   "outputs": [
    {
     "name": "stderr",
     "output_type": "stream",
     "text": [
      "C:\\Users\\Usuario\\AppData\\Local\\Temp/ipykernel_17260/4231444270.py:2: RuntimeWarning: invalid value encountered in true_divide\n",
      "  fscore = (2 * precision * recall) / (precision + recall)\n"
     ]
    },
    {
     "name": "stdout",
     "output_type": "stream",
     "text": [
      "Best Threshold=0.841072, F-Score=nan\n"
     ]
    },
    {
     "data": {
      "image/png": "[encoded data removed]",
      "text/plain": [
       "<Figure size 432x288 with 1 Axes>"
      ]
     },
     "metadata": {
      "needs_background": "light"
     },
     "output_type": "display_data"
    }
   ],
   "source": [
    "# convertimos a fscore\n",
    "fscore = (2 * precision * recall) / (precision + recall)\n",
    "# localizamos indice con mayor fscore\n",
    "ix = np.argmax(fscore)\n",
    "print('Best Threshold=%f, F-Score=%.3f' % (thresholds[ix], fscore[ix]))\n",
    "\n",
    "no_skill = len(ytest[ytest==1]) / len(ytest)\n",
    "plt.plot([0,1], [no_skill,no_skill], linestyle='--', label='No Skill')\n",
    "plt.plot(recall, precision, marker='.', label='Random Forest')\n",
    "plt.scatter(recall[ix], precision[ix], s=100, marker='o', color='black', label='Best')\n",
    "\n",
    "plt.xlabel('Recall')\n",
    "plt.ylabel('Precision')\n",
    "plt.legend()\n",
    "\n",
    "plt.show()"
   ]
  },
  {
   "cell_type": "markdown",
   "id": "b83acb08",
   "metadata": {},
   "source": [
    "**Una vez tenemos el modelo, jugamos con el threshold para ver los posibles resultados según la probabilidad que le queramos otorgar a las muertes**"
   ]
  },
  {
   "cell_type": "code",
   "execution_count": 237,
   "id": "f45affd0",
   "metadata": {},
   "outputs": [
    {
     "name": "stdout",
     "output_type": "stream",
     "text": [
      "              precision    recall  f1-score   support\n",
      "\n",
      "           0       0.96      0.31      0.47   1140522\n",
      "           1       0.01      0.25      0.01     19517\n",
      "\n",
      "    accuracy                           0.31   1160039\n",
      "   macro avg       0.48      0.28      0.24   1160039\n",
      "weighted avg       0.94      0.31      0.47   1160039\n",
      "\n"
     ]
    },
    {
     "data": {
      "image/png": "[encoded data removed]",
      "text/plain": [
       "<Figure size 432x288 with 2 Axes>"
      ]
     },
     "metadata": {
      "needs_background": "light"
     },
     "output_type": "display_data"
    }
   ],
   "source": [
    "threshold1 = 0.41\n",
    "y_pred = (rfselec_random.predict_proba(xtestlasso)[:, 1] < threshold).astype('float')\n",
    "cm1 = confusion_matrix(ytest, y_pred, normalize = 'true')\n",
    "sns.heatmap(cm1, cmap = 'Blues_r', annot = True)\n",
    "plt.ylabel(\"True label\")\n",
    "plt.xlabel(\"Predict label\")\n",
    "print(classification_report(ytest, y_pred))"
   ]
  },
  {
   "cell_type": "markdown",
   "id": "f06caf1b",
   "metadata": {},
   "source": [
    "**En este primer ejemplo de arriba con threshold 0.41, es decir, que todas las probabilidades superiores a 0.41 serán consideradas muertes, vemos que el fscore de muertes es bajo(0.01)y a la vez nos bajan los resultados de la predicción de de no-muertes. Para el threshold 0.41, hay un 31% de True positive(no-muertes que predecimos como no-muertes) y un 69% de False negative(son no-muertes pero predecimos muertes). Por otro lado tenemos un 75% de False positive(Son muertes pero predecimos que son no-muertes) y un 25% de True negatives(Son muertes y predecimos muertes)**"
   ]
  },
  {
   "cell_type": "code",
   "execution_count": 239,
   "id": "85eff013",
   "metadata": {},
   "outputs": [
    {
     "name": "stdout",
     "output_type": "stream",
     "text": [
      "              precision    recall  f1-score   support\n",
      "\n",
      "           0       0.89      0.02      0.03   1140522\n",
      "           1       0.01      0.87      0.03     19517\n",
      "\n",
      "    accuracy                           0.03   1160039\n",
      "   macro avg       0.45      0.44      0.03   1160039\n",
      "weighted avg       0.87      0.03      0.03   1160039\n",
      "\n"
     ]
    },
    {
     "data": {
      "image/png": "[encoded data removed]",
      "text/plain": [
       "<Figure size 432x288 with 2 Axes>"
      ]
     },
     "metadata": {
      "needs_background": "light"
     },
     "output_type": "display_data"
    }
   ],
   "source": [
    "threshold2 = 0.70\n",
    "y_pred2 = (rfselec_random.predict_proba(xtestlasso)[:, 1] < threshold2).astype('float')\n",
    "cm2 = confusion_matrix(ytest, y_pred2, normalize = 'true')\n",
    "sns.heatmap(cm2, cmap = 'Blues_r', annot = True)\n",
    "plt.ylabel(\"True label\")\n",
    "plt.xlabel(\"Predict label\")\n",
    "print(classification_report(ytest, y_pred2))"
   ]
  },
  {
   "cell_type": "markdown",
   "id": "787aedf2",
   "metadata": {},
   "source": [
    "**En este segundo ejemplo con threshold 0.70, es decir, que todas las probabilidades superiores a 0.70 serán consideradas muertes, vemos que el fscore de muertes ha aumentado a un 0.03 y a la vez nos baja mucho mas los resultados de la predicción de de no-muertes. Para el threshold 0.70, hay un 1.7% de True positive(no-muertes que predecimos como no-muertes) y un 98% de False negative(son no-muertes pero predecimos muertes). Por otro lado tenemos un 13% de False positive(Son muertes pero predecimos que son no-muertes) y un 87% de True negatives(Son muertes y predecimos muertes)**"
   ]
  },
  {
   "cell_type": "markdown",
   "id": "89d2e8c0",
   "metadata": {},
   "source": [
    "**Como conclusion viendo como varián los resultados según el threshold aplicado, si nos queremos centrar en la predicción de muertes, habría que aplicar un threshold alto (0.70 por ejemplo). Pero de esa manera el modelo asume que en cualquier accidente puede haber muertes. Es decir, acertamos la predicción de muertes por esa asunción de que en todos los accidentes hay muertes. Por otro lado si queremos un modelo de predicción de muertes sin bajar la predicción de no-muertes, nos es imposible predecir las muertes. Puede ser porque no conseguimos unas variables lo suficientemente explicativas como para predecir las muertes**"
   ]
  },
  {
   "cell_type": "code",
   "execution_count": 196,
   "id": "ab5cde1b",
   "metadata": {},
   "outputs": [],
   "source": [
    "pickle.dump(rfselec_random, open('rfselec_random.sav', 'wb'))"
   ]
  },
  {
   "cell_type": "code",
   "execution_count": 229,
   "id": "55ce00f0",
   "metadata": {},
   "outputs": [
    {
     "data": {
      "image/png": "[encoded data removed]",
      "text/plain": [
       "<Figure size 432x288 with 1 Axes>"
      ]
     },
     "metadata": {
      "needs_background": "light"
     },
     "output_type": "display_data"
    }
   ],
   "source": [
    "# Curva de ganancias\n",
    "skplt.metrics.plot_cumulative_gain(ytest, prob_predictions)\n",
    "plt.show()"
   ]
  },
  {
   "cell_type": "markdown",
   "id": "99fdfbf2",
   "metadata": {},
   "source": [
    "**En este gráfico vemos la distribución de las probabilidades de las muertes(de mayor a menor) a lo largo de la muestra, pero para el problema que intentamos resolver en este modelo(predecir muertes), no vemos relevante saber que en el primer 20% de la muestra se encuentran el 60% de muertes**"
   ]
  },
  {
   "cell_type": "code",
   "execution_count": 230,
   "id": "7dbdfe39",
   "metadata": {},
   "outputs": [
    {
     "data": {
      "image/png": "[encoded data removed]",
      "text/plain": [
       "<Figure size 432x288 with 1 Axes>"
      ]
     },
     "metadata": {
      "needs_background": "light"
     },
     "output_type": "display_data"
    }
   ],
   "source": [
    "# Curva lift\n",
    "skplt.metrics.plot_lift_curve(ytest, prob_predictions)\n",
    "plt.show()"
   ]
  },
  {
   "cell_type": "markdown",
   "id": "37e9ab79",
   "metadata": {},
   "source": [
    "**En el eje x de este gráfico tenemos el porcentaje de la población y se ordena de probabilidad más alta a más baja, es decir, primero las probabilidades mas altas de ser muertes.\n",
    "En el eje y tenemos hasta que punto es mejor nuestro modelo que el modelo predictivo aleatorio**"
   ]
  },
  {
   "cell_type": "markdown",
   "id": "da2d2588",
   "metadata": {},
   "source": [
    "**Con el 20% de la muestra que mas se acerque a ser muerte, nuestro modelo predice aproximadamente 2 veces mejor las muertes, que un modelo aleatorio**"
   ]
  }
 ],
 "metadata": {
  "kernelspec": {
   "display_name": "Python [conda env:core_models]",
   "language": "python",
   "name": "conda-env-core_models-py"
  },
  "language_info": {
   "codemirror_mode": {
    "name": "ipython",
    "version": 3
   },
   "file_extension": ".py",
   "mimetype": "text/x-python",
   "name": "python",
   "nbconvert_exporter": "python",
   "pygments_lexer": "ipython3",
   "version": "3.8.5"
  }
 },
 "nbformat": 4,
 "nbformat_minor": 5
}
